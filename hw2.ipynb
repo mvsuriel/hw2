{
  "nbformat": 4,
  "nbformat_minor": 0,
  "metadata": {
    "colab": {
      "provenance": []
    },
    "kernelspec": {
      "name": "python3",
      "display_name": "Python 3"
    },
    "language_info": {
      "name": "python"
    }
  },
  "cells": [
    {
      "cell_type": "markdown",
      "source": [
        "Homework 2"
      ],
      "metadata": {
        "id": "FxtVNex4jHc4"
      }
    },
    {
      "cell_type": "markdown",
      "source": [
        "# 1)"
      ],
      "metadata": {
        "id": "XdJnv2WAi5zS"
      }
    },
    {
      "cell_type": "markdown",
      "source": [
        "Create a function named \"triple\" that takes one parameter, x, and returns the value of x multiplied by three."
      ],
      "metadata": {
        "id": "OR0LgvPui7bB"
      }
    },
    {
      "cell_type": "code",
      "source": [
        "def triple(x):\n",
        "    return x * 3\n",
        "\n",
        "# Examples\n",
        "print(triple(3))  # should return 9\n",
        "print(triple(10)) # should return 30\n",
        "print(triple(-1)) # should return -3"
      ],
      "metadata": {
        "colab": {
          "base_uri": "https://localhost:8080/"
        },
        "id": "bGG7lv7bjCLZ",
        "outputId": "4f0d3786-96e8-4eb6-cd18-71279b347e17"
      },
      "execution_count": 1,
      "outputs": [
        {
          "output_type": "stream",
          "name": "stdout",
          "text": [
            "9\n",
            "30\n",
            "-3\n"
          ]
        }
      ]
    },
    {
      "cell_type": "markdown",
      "source": [
        "# 2)"
      ],
      "metadata": {
        "id": "FkQFRfsZjMdA"
      }
    },
    {
      "cell_type": "markdown",
      "source": [
        "Create a function named \"subtract\" that takes two parameters and returns the result of the second value subtracted from the first."
      ],
      "metadata": {
        "id": "CY5zJbUOjOxf"
      }
    },
    {
      "cell_type": "code",
      "source": [
        "def subtract(a, b):\n",
        "    return a - b\n",
        "\n",
        "# Examples\n",
        "print(subtract(10, 4))  # should return 6\n",
        "print(subtract(4, 10))  # should return -6"
      ],
      "metadata": {
        "colab": {
          "base_uri": "https://localhost:8080/"
        },
        "id": "5jG6DzpojT7u",
        "outputId": "6e53b5f1-eefe-4b0f-8002-d66811d6abae"
      },
      "execution_count": 2,
      "outputs": [
        {
          "output_type": "stream",
          "name": "stdout",
          "text": [
            "6\n",
            "-6\n"
          ]
        }
      ]
    },
    {
      "cell_type": "markdown",
      "source": [
        "# 3)"
      ],
      "metadata": {
        "id": "YbE7Zn2hjYTm"
      }
    },
    {
      "cell_type": "markdown",
      "source": [
        "Create a function called \"dictionary_maker\" # that has one parameter: a list of 2-tuples.\n",
        "\n",
        "It should return the same data in the form of a dictionary, where the first element of every tuple is the key and the second element is the value.\n",
        "\n",
        "For example, if given: `[('foo', 1), ('bar', 3)]` it should return `{'foo': 1, 'bar': 3}`\n",
        "\n",
        "You should program the function and not use the function \"dict\" directly"
      ],
      "metadata": {
        "id": "gsTpMjY9jaQm"
      }
    },
    {
      "cell_type": "code",
      "source": [
        "def dictionary_maker(tuples):\n",
        "    result = {}\n",
        "    for key, value in tuples:\n",
        "        result[key] = value\n",
        "    return result\n",
        "\n",
        "# Example\n",
        "print(dictionary_maker([('foo', 1), ('bar', 3)]))"
      ],
      "metadata": {
        "colab": {
          "base_uri": "https://localhost:8080/"
        },
        "id": "PvrKLxCojtu1",
        "outputId": "3bd102dc-e947-4045-b7f0-140b293a093c"
      },
      "execution_count": 3,
      "outputs": [
        {
          "output_type": "stream",
          "name": "stdout",
          "text": [
            "{'foo': 1, 'bar': 3}\n"
          ]
        }
      ]
    },
    {
      "cell_type": "markdown",
      "source": [
        "Now, imagine you are given data from a website that has people's CVs. The data comes as a list of dictionaries and each dictionary looks like this:\n",
        "\n",
        "`{ 'user': 'george', 'jobs': ['bar', 'baz', 'qux']}`\n",
        "\n",
        "e.g.\n",
        "\n",
        "```\n",
        "[{'user': 'john', 'jobs': ['analyst', 'engineer']},\n",
        " {'user': 'jane', 'jobs': ['finance', 'software']}]\n",
        "```\n",
        "\n",
        "we will refer to this as a \"CV\"."
      ],
      "metadata": {
        "id": "IG-aM_ZDj0LD"
      }
    },
    {
      "cell_type": "code",
      "source": [
        "CV = [\n",
        "    {'user': 'john', 'jobs': ['analyst', 'engineer']},\n",
        "    {'user': 'jane', 'jobs': ['finance', 'software']},]"
      ],
      "metadata": {
        "id": "jow72piHlTAA"
      },
      "execution_count": 4,
      "outputs": []
    },
    {
      "cell_type": "markdown",
      "source": [
        "# 4)"
      ],
      "metadata": {
        "id": "Hxk8zRd5lWHG"
      }
    },
    {
      "cell_type": "markdown",
      "source": [
        "Create a function called \"has_experience_as\" that has two parameters:\n",
        "\n",
        "1. A list of CV's.\n",
        "2. A string (job_title)\n",
        "\n",
        "The function should return a list of strings representing the usernames of every user that has worked as job_title."
      ],
      "metadata": {
        "id": "WUaaFF1llYAu"
      }
    },
    {
      "cell_type": "code",
      "source": [
        "def has_experience_as(cvs, job_title):\n",
        "    experienced_users = []\n",
        "    for cv in cvs:\n",
        "        if job_title in cv['jobs']:\n",
        "            experienced_users.append(cv['user'])\n",
        "    return experienced_users\n",
        "\n",
        "# Examples\n",
        "print(has_experience_as(CV, 'engineer'))  # should return ['john']\n",
        "print(has_experience_as(CV, 'finance'))   # should return ['jane']\n",
        "print(has_experience_as(CV, 'teacher'))   # should return []"
      ],
      "metadata": {
        "colab": {
          "base_uri": "https://localhost:8080/"
        },
        "id": "p27pghfQlh_O",
        "outputId": "f85cae45-4a87-4025-a3e8-adedf999e82c"
      },
      "execution_count": 5,
      "outputs": [
        {
          "output_type": "stream",
          "name": "stdout",
          "text": [
            "['john']\n",
            "['jane']\n",
            "[]\n"
          ]
        }
      ]
    },
    {
      "cell_type": "markdown",
      "source": [
        "# 5)"
      ],
      "metadata": {
        "id": "3RPIFN2Elpdl"
      }
    },
    {
      "cell_type": "markdown",
      "source": [
        "Create a function called \"job_counts\" that has one parameter: list of CV's and returns a dictionary where the keys are the job titles and the values are the number of users that have done that job."
      ],
      "metadata": {
        "id": "fLIsm658lreV"
      }
    },
    {
      "cell_type": "code",
      "source": [
        "def job_counts(cvs):\n",
        "    counts = {}\n",
        "    for cv in cvs:\n",
        "        for job in cv['jobs']:\n",
        "            if job in counts:\n",
        "                counts[job] += 1\n",
        "            else:\n",
        "                counts[job] = 1\n",
        "    return counts\n",
        "\n",
        "# Example\n",
        "print(job_counts(CV))  # should return {'analyst': 1, 'engineeer': 1, 'finance': 1, 'software': 1}"
      ],
      "metadata": {
        "colab": {
          "base_uri": "https://localhost:8080/"
        },
        "id": "qq36w7BAlyCF",
        "outputId": "8ca25ede-0869-455c-eaaa-aa37b34f7bd6"
      },
      "execution_count": 6,
      "outputs": [
        {
          "output_type": "stream",
          "name": "stdout",
          "text": [
            "{'analyst': 1, 'engineer': 1, 'finance': 1, 'software': 1}\n"
          ]
        }
      ]
    },
    {
      "cell_type": "markdown",
      "source": [
        "# 6)"
      ],
      "metadata": {
        "id": "5wwhSf0Vl2Vs"
      }
    },
    {
      "cell_type": "markdown",
      "source": [
        "\n",
        "Create a function, called \"most_popular_job\" that has one parameter: a list of CV's, and returns a tuple (str, int) that represents the title of the most popular job and the number of times it was held by people on the site.\n",
        "\n",
        "HINT: You should probably use your \"job_counts\" function!\n",
        "\n",
        "HINT: You can use the method '.items' on dictionaries to iterate over them like a list of tuples."
      ],
      "metadata": {
        "id": "FqECjNo8l39c"
      }
    },
    {
      "cell_type": "code",
      "source": [
        "def most_popular_job(cvs):\n",
        "    counts = job_counts(cvs)\n",
        "    most_popular = None\n",
        "    highest_count = 0\n",
        "    for job, count in counts.items():\n",
        "        if count > highest_count:\n",
        "            most_popular = job\n",
        "            highest_count = count\n",
        "    return (most_popular, highest_count)\n",
        "\n",
        "# Example\n",
        "print(most_popular_job(CV))  # should return ('analyst', 1) or ('engineer', 1) or ('finance', 1) or ('software', 1)\n"
      ],
      "metadata": {
        "colab": {
          "base_uri": "https://localhost:8080/"
        },
        "id": "tNVUdhaZmBLr",
        "outputId": "83948527-da65-4690-8b68-b962626588a1"
      },
      "execution_count": 7,
      "outputs": [
        {
          "output_type": "stream",
          "name": "stdout",
          "text": [
            "('analyst', 1)\n"
          ]
        }
      ]
    },
    {
      "cell_type": "markdown",
      "source": [
        "Now imagine you have a certain data structure that contains information about different countries and the number of people who was registered with covid in a weekly basis.\n",
        "\n",
        "e.g.\n",
        "\n",
        "```\n",
        "{'Spain': [4, 8, 2, 0, 1],\n",
        "'France': [2, 3, 6],\n",
        "'Italy': [6, 8, 1, 7]}\n",
        "```\n",
        "\n",
        "Assuming that the moment they started reporting the number of registered cases is not the same (thus the length of the lists can differ)"
      ],
      "metadata": {
        "id": "BdTKuFTZmHXb"
      }
    },
    {
      "cell_type": "markdown",
      "source": [
        "# 7)"
      ],
      "metadata": {
        "id": "TmhiLUj0mXEJ"
      }
    },
    {
      "cell_type": "markdown",
      "source": [
        "Create a function called \"total_registered_cases\" that has 2 parameters:\n",
        "\n",
        "1) The data structure described above.\n",
        "2) A string with the country name.\n",
        "\n",
        "The function should return the total number of cases registered so far in that country"
      ],
      "metadata": {
        "id": "HY_jSKOGmZjR"
      }
    },
    {
      "cell_type": "code",
      "source": [
        "def total_registered_cases(data, country):\n",
        "    if country in data:\n",
        "        return sum(data[country])\n",
        "    else:\n",
        "        return 0\n",
        "\n",
        "# Examples\n",
        "data = {\n",
        "    'Spain': [4, 8, 2, 0, 1],\n",
        "    'France': [2, 3, 6],\n",
        "    'Italy': [6, 8, 1, 7]}\n",
        "print(total_registered_cases(data, 'Spain'))   # should return 15\n",
        "print(total_registered_cases(data, 'France'))  # should return 11\n",
        "print(total_registered_cases(data, 'Italy'))   # should return 22\n",
        "print(total_registered_cases(data, 'Germany')) # should return 0"
      ],
      "metadata": {
        "colab": {
          "base_uri": "https://localhost:8080/"
        },
        "id": "Stt_uP6SmgnQ",
        "outputId": "2d6e391b-3ec7-466c-92c1-2ed254e8ffaa"
      },
      "execution_count": 8,
      "outputs": [
        {
          "output_type": "stream",
          "name": "stdout",
          "text": [
            "15\n",
            "11\n",
            "22\n",
            "0\n"
          ]
        }
      ]
    },
    {
      "cell_type": "markdown",
      "source": [
        "# 8)"
      ],
      "metadata": {
        "id": "39t7z2REmllw"
      }
    },
    {
      "cell_type": "markdown",
      "source": [
        "\n",
        "Create a function called \"total_registered_cases_per_country\" that has 1 parameter:\n",
        "\n",
        "1) The data structure described above.\n",
        "\n",
        "The function should return a dictionary with a key per each country and as value the total number of cases registered so far that the country had"
      ],
      "metadata": {
        "id": "zKpsb6F7mnLg"
      }
    },
    {
      "cell_type": "code",
      "source": [
        "def total_registered_cases_per_country(data):\n",
        "    totals = {}\n",
        "    for country, cases in data.items():\n",
        "        totals[country] = sum(cases)\n",
        "    return totals\n",
        "\n",
        "# Example\n",
        "print(total_registered_cases_per_country(data))  # should return {'Spain': 15, 'France': 11, 'Italy': 22}"
      ],
      "metadata": {
        "colab": {
          "base_uri": "https://localhost:8080/"
        },
        "id": "xtAQ7vqBmus-",
        "outputId": "609cb812-3b7b-4341-c2db-e5736805dbfa"
      },
      "execution_count": 9,
      "outputs": [
        {
          "output_type": "stream",
          "name": "stdout",
          "text": [
            "{'Spain': 15, 'France': 11, 'Italy': 22}\n"
          ]
        }
      ]
    },
    {
      "cell_type": "markdown",
      "source": [
        "# 9)"
      ],
      "metadata": {
        "id": "jYcgW-wamyhH"
      }
    },
    {
      "cell_type": "markdown",
      "source": [
        "\n",
        "Create a function called \"country_with_most_cases\" that has 1 parameter:\n",
        "\n",
        "1) The data structure described above\n",
        "\n",
        "The function should return the country with the greatest total amount of cases"
      ],
      "metadata": {
        "id": "TLzjeRGpm0un"
      }
    },
    {
      "cell_type": "code",
      "source": [
        "def country_with_most_cases(data):\n",
        "    totals = total_registered_cases_per_country(data)\n",
        "    most_cases_country = None\n",
        "    highest_cases = 0\n",
        "    for country, cases in totals.items():\n",
        "        if cases > highest_cases:\n",
        "            most_cases_country = country\n",
        "            highest_cases = cases\n",
        "    return most_cases_country\n",
        "\n",
        "# Example\n",
        "print(country_with_most_cases(data))  # should return 'Italy'"
      ],
      "metadata": {
        "colab": {
          "base_uri": "https://localhost:8080/"
        },
        "id": "miOY_1F-m7m-",
        "outputId": "fdcae320-e286-4c2f-be06-127b0ccec812"
      },
      "execution_count": 10,
      "outputs": [
        {
          "output_type": "stream",
          "name": "stdout",
          "text": [
            "Italy\n"
          ]
        }
      ]
    },
    {
      "cell_type": "markdown",
      "source": [
        "Use the data in covid.csv for this exercise"
      ],
      "metadata": {
        "id": "16dO9okhm_n1"
      }
    },
    {
      "cell_type": "markdown",
      "source": [
        "# 10)"
      ],
      "metadata": {
        "id": "-yT4nzpknCwt"
      }
    },
    {
      "cell_type": "markdown",
      "source": [
        "In a separate file, write a piece of code that loads the covid.csv file and prints the list of countries and the total average of death/confirmed among those countries for those countries that have more than 500, 1000 and 5000 active cases respectively.\n",
        "\n",
        "Follow DRY principles in order to complete this exercise."
      ],
      "metadata": {
        "id": "HJXtg-1TnFv9"
      }
    },
    {
      "cell_type": "code",
      "source": [
        "import pandas as pd\n",
        "\n",
        "filename = 'https://raw.githubusercontent.com/mvsuriel/hw2/refs/heads/main/covid.csv'\n",
        "\n",
        "def analyze_covid(df):\n",
        "    df = pd.read_csv(filename)\n",
        "\n",
        "    thresholds = [500, 1000, 5000]\n",
        "    results = []\n",
        "\n",
        "    for threshold in thresholds:\n",
        "        filtered_df = df[df['Active'] > threshold]\n",
        "\n",
        "        if not filtered_df.empty:\n",
        "            average_death_confirmed = filtered_df['Deaths'].sum() / filtered_df['Confirmed'].sum()\n",
        "            countries = ', '.join(filtered_df['Country'].tolist())\n",
        "            results.append({'Threshold': threshold, 'Countries': countries, 'Average Death/Confirmed': average_death_confirmed})\n",
        "        else:\n",
        "            results.append({'Threshold': threshold, 'Countries': 'None', 'Average Death/Confirmed': 0}) # Or pd.NA\n",
        "\n",
        "    return pd.DataFrame(results)\n",
        "\n",
        "# Analyze the covid_df DataFrame and display the results\n",
        "results_df = analyze_covid(filename)\n",
        "display(results_df)"
      ],
      "metadata": {
        "colab": {
          "base_uri": "https://localhost:8080/",
          "height": 143
        },
        "id": "h9Qfg86AvfPJ",
        "outputId": "e2df6539-c2cd-4bd4-9060-c083463ec845"
      },
      "execution_count": 43,
      "outputs": [
        {
          "output_type": "display_data",
          "data": {
            "text/plain": [
              "   Threshold                                          Countries  \\\n",
              "0        500  Argentina, Australia, Austria, Belgium, Brazil...   \n",
              "1       1000  Australia, Austria, Belgium, Brazil, Chile, Ch...   \n",
              "2       5000  Austria, Belgium, France, Germany, Iran, Italy...   \n",
              "\n",
              "   Average Death/Confirmed  \n",
              "0                 0.055656  \n",
              "1                 0.056522  \n",
              "2                 0.066214  "
            ],
            "text/html": [
              "\n",
              "  <div id=\"df-81a9a0b3-9613-4f2c-acb0-b43aa84922d6\" class=\"colab-df-container\">\n",
              "    <div>\n",
              "<style scoped>\n",
              "    .dataframe tbody tr th:only-of-type {\n",
              "        vertical-align: middle;\n",
              "    }\n",
              "\n",
              "    .dataframe tbody tr th {\n",
              "        vertical-align: top;\n",
              "    }\n",
              "\n",
              "    .dataframe thead th {\n",
              "        text-align: right;\n",
              "    }\n",
              "</style>\n",
              "<table border=\"1\" class=\"dataframe\">\n",
              "  <thead>\n",
              "    <tr style=\"text-align: right;\">\n",
              "      <th></th>\n",
              "      <th>Threshold</th>\n",
              "      <th>Countries</th>\n",
              "      <th>Average Death/Confirmed</th>\n",
              "    </tr>\n",
              "  </thead>\n",
              "  <tbody>\n",
              "    <tr>\n",
              "      <th>0</th>\n",
              "      <td>500</td>\n",
              "      <td>Argentina, Australia, Austria, Belgium, Brazil...</td>\n",
              "      <td>0.055656</td>\n",
              "    </tr>\n",
              "    <tr>\n",
              "      <th>1</th>\n",
              "      <td>1000</td>\n",
              "      <td>Australia, Austria, Belgium, Brazil, Chile, Ch...</td>\n",
              "      <td>0.056522</td>\n",
              "    </tr>\n",
              "    <tr>\n",
              "      <th>2</th>\n",
              "      <td>5000</td>\n",
              "      <td>Austria, Belgium, France, Germany, Iran, Italy...</td>\n",
              "      <td>0.066214</td>\n",
              "    </tr>\n",
              "  </tbody>\n",
              "</table>\n",
              "</div>\n",
              "    <div class=\"colab-df-buttons\">\n",
              "\n",
              "  <div class=\"colab-df-container\">\n",
              "    <button class=\"colab-df-convert\" onclick=\"convertToInteractive('df-81a9a0b3-9613-4f2c-acb0-b43aa84922d6')\"\n",
              "            title=\"Convert this dataframe to an interactive table.\"\n",
              "            style=\"display:none;\">\n",
              "\n",
              "  <svg xmlns=\"http://www.w3.org/2000/svg\" height=\"24px\" viewBox=\"0 -960 960 960\">\n",
              "    <path d=\"M120-120v-720h720v720H120Zm60-500h600v-160H180v160Zm220 220h160v-160H400v160Zm0 220h160v-160H400v160ZM180-400h160v-160H180v160Zm440 0h160v-160H620v160ZM180-180h160v-160H180v160Zm440 0h160v-160H620v160Z\"/>\n",
              "  </svg>\n",
              "    </button>\n",
              "\n",
              "  <style>\n",
              "    .colab-df-container {\n",
              "      display:flex;\n",
              "      gap: 12px;\n",
              "    }\n",
              "\n",
              "    .colab-df-convert {\n",
              "      background-color: #E8F0FE;\n",
              "      border: none;\n",
              "      border-radius: 50%;\n",
              "      cursor: pointer;\n",
              "      display: none;\n",
              "      fill: #1967D2;\n",
              "      height: 32px;\n",
              "      padding: 0 0 0 0;\n",
              "      width: 32px;\n",
              "    }\n",
              "\n",
              "    .colab-df-convert:hover {\n",
              "      background-color: #E2EBFA;\n",
              "      box-shadow: 0px 1px 2px rgba(60, 64, 67, 0.3), 0px 1px 3px 1px rgba(60, 64, 67, 0.15);\n",
              "      fill: #174EA6;\n",
              "    }\n",
              "\n",
              "    .colab-df-buttons div {\n",
              "      margin-bottom: 4px;\n",
              "    }\n",
              "\n",
              "    [theme=dark] .colab-df-convert {\n",
              "      background-color: #3B4455;\n",
              "      fill: #D2E3FC;\n",
              "    }\n",
              "\n",
              "    [theme=dark] .colab-df-convert:hover {\n",
              "      background-color: #434B5C;\n",
              "      box-shadow: 0px 1px 3px 1px rgba(0, 0, 0, 0.15);\n",
              "      filter: drop-shadow(0px 1px 2px rgba(0, 0, 0, 0.3));\n",
              "      fill: #FFFFFF;\n",
              "    }\n",
              "  </style>\n",
              "\n",
              "    <script>\n",
              "      const buttonEl =\n",
              "        document.querySelector('#df-81a9a0b3-9613-4f2c-acb0-b43aa84922d6 button.colab-df-convert');\n",
              "      buttonEl.style.display =\n",
              "        google.colab.kernel.accessAllowed ? 'block' : 'none';\n",
              "\n",
              "      async function convertToInteractive(key) {\n",
              "        const element = document.querySelector('#df-81a9a0b3-9613-4f2c-acb0-b43aa84922d6');\n",
              "        const dataTable =\n",
              "          await google.colab.kernel.invokeFunction('convertToInteractive',\n",
              "                                                    [key], {});\n",
              "        if (!dataTable) return;\n",
              "\n",
              "        const docLinkHtml = 'Like what you see? Visit the ' +\n",
              "          '<a target=\"_blank\" href=https://colab.research.google.com/notebooks/data_table.ipynb>data table notebook</a>'\n",
              "          + ' to learn more about interactive tables.';\n",
              "        element.innerHTML = '';\n",
              "        dataTable['output_type'] = 'display_data';\n",
              "        await google.colab.output.renderOutput(dataTable, element);\n",
              "        const docLink = document.createElement('div');\n",
              "        docLink.innerHTML = docLinkHtml;\n",
              "        element.appendChild(docLink);\n",
              "      }\n",
              "    </script>\n",
              "  </div>\n",
              "\n",
              "\n",
              "    <div id=\"df-553ec7fc-4d9c-498e-975a-87ebe0a889a3\">\n",
              "      <button class=\"colab-df-quickchart\" onclick=\"quickchart('df-553ec7fc-4d9c-498e-975a-87ebe0a889a3')\"\n",
              "                title=\"Suggest charts\"\n",
              "                style=\"display:none;\">\n",
              "\n",
              "<svg xmlns=\"http://www.w3.org/2000/svg\" height=\"24px\"viewBox=\"0 0 24 24\"\n",
              "     width=\"24px\">\n",
              "    <g>\n",
              "        <path d=\"M19 3H5c-1.1 0-2 .9-2 2v14c0 1.1.9 2 2 2h14c1.1 0 2-.9 2-2V5c0-1.1-.9-2-2-2zM9 17H7v-7h2v7zm4 0h-2V7h2v10zm4 0h-2v-4h2v4z\"/>\n",
              "    </g>\n",
              "</svg>\n",
              "      </button>\n",
              "\n",
              "<style>\n",
              "  .colab-df-quickchart {\n",
              "      --bg-color: #E8F0FE;\n",
              "      --fill-color: #1967D2;\n",
              "      --hover-bg-color: #E2EBFA;\n",
              "      --hover-fill-color: #174EA6;\n",
              "      --disabled-fill-color: #AAA;\n",
              "      --disabled-bg-color: #DDD;\n",
              "  }\n",
              "\n",
              "  [theme=dark] .colab-df-quickchart {\n",
              "      --bg-color: #3B4455;\n",
              "      --fill-color: #D2E3FC;\n",
              "      --hover-bg-color: #434B5C;\n",
              "      --hover-fill-color: #FFFFFF;\n",
              "      --disabled-bg-color: #3B4455;\n",
              "      --disabled-fill-color: #666;\n",
              "  }\n",
              "\n",
              "  .colab-df-quickchart {\n",
              "    background-color: var(--bg-color);\n",
              "    border: none;\n",
              "    border-radius: 50%;\n",
              "    cursor: pointer;\n",
              "    display: none;\n",
              "    fill: var(--fill-color);\n",
              "    height: 32px;\n",
              "    padding: 0;\n",
              "    width: 32px;\n",
              "  }\n",
              "\n",
              "  .colab-df-quickchart:hover {\n",
              "    background-color: var(--hover-bg-color);\n",
              "    box-shadow: 0 1px 2px rgba(60, 64, 67, 0.3), 0 1px 3px 1px rgba(60, 64, 67, 0.15);\n",
              "    fill: var(--button-hover-fill-color);\n",
              "  }\n",
              "\n",
              "  .colab-df-quickchart-complete:disabled,\n",
              "  .colab-df-quickchart-complete:disabled:hover {\n",
              "    background-color: var(--disabled-bg-color);\n",
              "    fill: var(--disabled-fill-color);\n",
              "    box-shadow: none;\n",
              "  }\n",
              "\n",
              "  .colab-df-spinner {\n",
              "    border: 2px solid var(--fill-color);\n",
              "    border-color: transparent;\n",
              "    border-bottom-color: var(--fill-color);\n",
              "    animation:\n",
              "      spin 1s steps(1) infinite;\n",
              "  }\n",
              "\n",
              "  @keyframes spin {\n",
              "    0% {\n",
              "      border-color: transparent;\n",
              "      border-bottom-color: var(--fill-color);\n",
              "      border-left-color: var(--fill-color);\n",
              "    }\n",
              "    20% {\n",
              "      border-color: transparent;\n",
              "      border-left-color: var(--fill-color);\n",
              "      border-top-color: var(--fill-color);\n",
              "    }\n",
              "    30% {\n",
              "      border-color: transparent;\n",
              "      border-left-color: var(--fill-color);\n",
              "      border-top-color: var(--fill-color);\n",
              "      border-right-color: var(--fill-color);\n",
              "    }\n",
              "    40% {\n",
              "      border-color: transparent;\n",
              "      border-right-color: var(--fill-color);\n",
              "      border-top-color: var(--fill-color);\n",
              "    }\n",
              "    60% {\n",
              "      border-color: transparent;\n",
              "      border-right-color: var(--fill-color);\n",
              "    }\n",
              "    80% {\n",
              "      border-color: transparent;\n",
              "      border-right-color: var(--fill-color);\n",
              "      border-bottom-color: var(--fill-color);\n",
              "    }\n",
              "    90% {\n",
              "      border-color: transparent;\n",
              "      border-bottom-color: var(--fill-color);\n",
              "    }\n",
              "  }\n",
              "</style>\n",
              "\n",
              "      <script>\n",
              "        async function quickchart(key) {\n",
              "          const quickchartButtonEl =\n",
              "            document.querySelector('#' + key + ' button');\n",
              "          quickchartButtonEl.disabled = true;  // To prevent multiple clicks.\n",
              "          quickchartButtonEl.classList.add('colab-df-spinner');\n",
              "          try {\n",
              "            const charts = await google.colab.kernel.invokeFunction(\n",
              "                'suggestCharts', [key], {});\n",
              "          } catch (error) {\n",
              "            console.error('Error during call to suggestCharts:', error);\n",
              "          }\n",
              "          quickchartButtonEl.classList.remove('colab-df-spinner');\n",
              "          quickchartButtonEl.classList.add('colab-df-quickchart-complete');\n",
              "        }\n",
              "        (() => {\n",
              "          let quickchartButtonEl =\n",
              "            document.querySelector('#df-553ec7fc-4d9c-498e-975a-87ebe0a889a3 button');\n",
              "          quickchartButtonEl.style.display =\n",
              "            google.colab.kernel.accessAllowed ? 'block' : 'none';\n",
              "        })();\n",
              "      </script>\n",
              "    </div>\n",
              "\n",
              "  <div id=\"id_6386e67d-b0d7-41e3-930a-7f558f2d27c4\">\n",
              "    <style>\n",
              "      .colab-df-generate {\n",
              "        background-color: #E8F0FE;\n",
              "        border: none;\n",
              "        border-radius: 50%;\n",
              "        cursor: pointer;\n",
              "        display: none;\n",
              "        fill: #1967D2;\n",
              "        height: 32px;\n",
              "        padding: 0 0 0 0;\n",
              "        width: 32px;\n",
              "      }\n",
              "\n",
              "      .colab-df-generate:hover {\n",
              "        background-color: #E2EBFA;\n",
              "        box-shadow: 0px 1px 2px rgba(60, 64, 67, 0.3), 0px 1px 3px 1px rgba(60, 64, 67, 0.15);\n",
              "        fill: #174EA6;\n",
              "      }\n",
              "\n",
              "      [theme=dark] .colab-df-generate {\n",
              "        background-color: #3B4455;\n",
              "        fill: #D2E3FC;\n",
              "      }\n",
              "\n",
              "      [theme=dark] .colab-df-generate:hover {\n",
              "        background-color: #434B5C;\n",
              "        box-shadow: 0px 1px 3px 1px rgba(0, 0, 0, 0.15);\n",
              "        filter: drop-shadow(0px 1px 2px rgba(0, 0, 0, 0.3));\n",
              "        fill: #FFFFFF;\n",
              "      }\n",
              "    </style>\n",
              "    <button class=\"colab-df-generate\" onclick=\"generateWithVariable('results_df')\"\n",
              "            title=\"Generate code using this dataframe.\"\n",
              "            style=\"display:none;\">\n",
              "\n",
              "  <svg xmlns=\"http://www.w3.org/2000/svg\" height=\"24px\"viewBox=\"0 0 24 24\"\n",
              "       width=\"24px\">\n",
              "    <path d=\"M7,19H8.4L18.45,9,17,7.55,7,17.6ZM5,21V16.75L18.45,3.32a2,2,0,0,1,2.83,0l1.4,1.43a1.91,1.91,0,0,1,.58,1.4,1.91,1.91,0,0,1-.58,1.4L9.25,21ZM18.45,9,17,7.55Zm-12,3A5.31,5.31,0,0,0,4.9,8.1,5.31,5.31,0,0,0,1,6.5,5.31,5.31,0,0,0,4.9,4.9,5.31,5.31,0,0,0,6.5,1,5.31,5.31,0,0,0,8.1,4.9,5.31,5.31,0,0,0,12,6.5,5.46,5.46,0,0,0,6.5,12Z\"/>\n",
              "  </svg>\n",
              "    </button>\n",
              "    <script>\n",
              "      (() => {\n",
              "      const buttonEl =\n",
              "        document.querySelector('#id_6386e67d-b0d7-41e3-930a-7f558f2d27c4 button.colab-df-generate');\n",
              "      buttonEl.style.display =\n",
              "        google.colab.kernel.accessAllowed ? 'block' : 'none';\n",
              "\n",
              "      buttonEl.onclick = () => {\n",
              "        google.colab.notebook.generateWithVariable('results_df');\n",
              "      }\n",
              "      })();\n",
              "    </script>\n",
              "  </div>\n",
              "\n",
              "    </div>\n",
              "  </div>\n"
            ],
            "application/vnd.google.colaboratory.intrinsic+json": {
              "type": "dataframe",
              "variable_name": "results_df",
              "summary": "{\n  \"name\": \"results_df\",\n  \"rows\": 3,\n  \"fields\": [\n    {\n      \"column\": \"Threshold\",\n      \"properties\": {\n        \"dtype\": \"number\",\n        \"std\": 2466,\n        \"min\": 500,\n        \"max\": 5000,\n        \"num_unique_values\": 3,\n        \"samples\": [\n          500,\n          1000,\n          5000\n        ],\n        \"semantic_type\": \"\",\n        \"description\": \"\"\n      }\n    },\n    {\n      \"column\": \"Countries\",\n      \"properties\": {\n        \"dtype\": \"string\",\n        \"num_unique_values\": 3,\n        \"samples\": [\n          \"Argentina, Australia, Austria, Belgium, Brazil, Chile, China, Colombia, Croatia, Czechia, Denmark, Dominican Republic, Ecuador, Estonia, Finland, France, Germany, Greece, Iceland, India, Indonesia, Iran, Ireland, Israel, Italy, Japan, Korea, South, Luxembourg, Malaysia, Mexico, Netherlands, Norway, Pakistan, Panama, Peru, Philippines, Poland, Portugal, Qatar, Romania, Russia, Saudi Arabia, Serbia, Singapore, Slovenia, South Africa, Spain, Sweden, Switzerland, Thailand, Turkey, United Arab Emirates, United Kingdom\",\n          \"Australia, Austria, Belgium, Brazil, Chile, China, Czechia, Denmark, Ecuador, Finland, France, Germany, Greece, Indonesia, Iran, Ireland, Israel, Italy, Japan, Korea, South, Luxembourg, Malaysia, Netherlands, Norway, Pakistan, Philippines, Poland, Portugal, Romania, Russia, Saudi Arabia, South Africa, Spain, Sweden, Switzerland, Thailand, Turkey, United Kingdom\",\n          \"Austria, Belgium, France, Germany, Iran, Italy, Netherlands, Portugal, Spain, Switzerland, Turkey, United Kingdom\"\n        ],\n        \"semantic_type\": \"\",\n        \"description\": \"\"\n      }\n    },\n    {\n      \"column\": \"Average Death/Confirmed\",\n      \"properties\": {\n        \"dtype\": \"number\",\n        \"std\": 0.005861410179866231,\n        \"min\": 0.055656400782048754,\n        \"max\": 0.06621365399884284,\n        \"num_unique_values\": 3,\n        \"samples\": [\n          0.055656400782048754,\n          0.05652178693956544,\n          0.06621365399884284\n        ],\n        \"semantic_type\": \"\",\n        \"description\": \"\"\n      }\n    }\n  ]\n}"
            }
          },
          "metadata": {}
        }
      ]
    },
    {
      "cell_type": "code",
      "metadata": {
        "colab": {
          "base_uri": "https://localhost:8080/"
        },
        "id": "ba5fece4",
        "outputId": "42cac559-3ab8-4008-ff2a-7fb878a80dd4"
      },
      "source": [
        "# Get the countries for each threshold\n",
        "Threshold_500 = results_df[results_df['Threshold'] == 500]['Countries'].iloc[0]\n",
        "Threshold_1000 = results_df[results_df['Threshold'] == 1000]['Countries'].iloc[0]\n",
        "Threshold_5000 = results_df[results_df['Threshold'] == 5000]['Countries'].iloc[0]\n",
        "\n",
        "# Print the countries for each threshold\n",
        "print(f'Countries with more than 500 active cases: {Threshold_500}')\n",
        "print(f'Countries with more than 1000 active cases: {Threshold_1000}')\n",
        "print(f'Countries with more than 5000 active cases: {Threshold_5000}')"
      ],
      "execution_count": 44,
      "outputs": [
        {
          "output_type": "stream",
          "name": "stdout",
          "text": [
            "Countries with more than 500 active cases: Argentina, Australia, Austria, Belgium, Brazil, Chile, China, Colombia, Croatia, Czechia, Denmark, Dominican Republic, Ecuador, Estonia, Finland, France, Germany, Greece, Iceland, India, Indonesia, Iran, Ireland, Israel, Italy, Japan, Korea, South, Luxembourg, Malaysia, Mexico, Netherlands, Norway, Pakistan, Panama, Peru, Philippines, Poland, Portugal, Qatar, Romania, Russia, Saudi Arabia, Serbia, Singapore, Slovenia, South Africa, Spain, Sweden, Switzerland, Thailand, Turkey, United Arab Emirates, United Kingdom\n",
            "Countries with more than 1000 active cases: Australia, Austria, Belgium, Brazil, Chile, China, Czechia, Denmark, Ecuador, Finland, France, Germany, Greece, Indonesia, Iran, Ireland, Israel, Italy, Japan, Korea, South, Luxembourg, Malaysia, Netherlands, Norway, Pakistan, Philippines, Poland, Portugal, Romania, Russia, Saudi Arabia, South Africa, Spain, Sweden, Switzerland, Thailand, Turkey, United Kingdom\n",
            "Countries with more than 5000 active cases: Austria, Belgium, France, Germany, Iran, Italy, Netherlands, Portugal, Spain, Switzerland, Turkey, United Kingdom\n"
          ]
        }
      ]
    }
  ]
}